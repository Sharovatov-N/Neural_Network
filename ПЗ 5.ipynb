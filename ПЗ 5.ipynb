{
 "cells": [
  {
   "cell_type": "markdown",
   "metadata": {
    "id": "vQnDWSn8TEOl"
   },
   "source": [
    "## ПЗ 5. Работа не доделанная. Сделая к 12.06.21"
   ]
  },
  {
   "cell_type": "code",
   "execution_count": 1,
   "metadata": {
    "id": "wuI6h_TyEhvl"
   },
   "outputs": [],
   "source": [
    "import pandas as pd\n",
    "import numpy as np"
   ]
  },
  {
   "cell_type": "code",
   "execution_count": 2,
   "metadata": {
    "colab": {
     "base_uri": "https://localhost:8080/"
    },
    "id": "IM1n34PCTEPk",
    "outputId": "4d1a948a-52bf-41b6-9364-2acc0c01b83c"
   },
   "outputs": [],
   "source": [
    "from __future__ import print_function\n",
    "\n",
    "from keras.preprocessing import sequence\n",
    "from keras.models import Sequential\n",
    "from keras.layers import Dense, Embedding\n",
    "from keras.layers import LSTM\n"
   ]
  },
  {
   "cell_type": "code",
   "execution_count": 3,
   "metadata": {},
   "outputs": [
    {
     "data": {
      "text/plain": [
       "<bound method DataFrame.info of        Month  Passengers\n",
       "0    1949-01         112\n",
       "1    1949-02         118\n",
       "2    1949-03         132\n",
       "3    1949-04         129\n",
       "4    1949-05         121\n",
       "..       ...         ...\n",
       "139  1960-08         606\n",
       "140  1960-09         508\n",
       "141  1960-10         461\n",
       "142  1960-11         390\n",
       "143  1960-12         432\n",
       "\n",
       "[144 rows x 2 columns]>"
      ]
     },
     "execution_count": 3,
     "metadata": {},
     "output_type": "execute_result"
    }
   ],
   "source": [
    "df = pd.read_csv('airline-passengers.csv')\n",
    "df.info"
   ]
  },
  {
   "cell_type": "code",
   "execution_count": 4,
   "metadata": {
    "colab": {
     "base_uri": "https://localhost:8080/"
    },
    "id": "UD8mp-DbDOf1",
    "outputId": "7d8d5211-88ce-45db-caba-bf40cedd3a00"
   },
   "outputs": [
    {
     "ename": "NameError",
     "evalue": "name 'x_test' is not defined",
     "output_type": "error",
     "traceback": [
      "\u001b[0;31m---------------------------------------------------------------------------\u001b[0m",
      "\u001b[0;31mNameError\u001b[0m                                 Traceback (most recent call last)",
      "\u001b[0;32m<ipython-input-4-0653033dfe8c>\u001b[0m in \u001b[0;36m<module>\u001b[0;34m\u001b[0m\n\u001b[0;32m----> 1\u001b[0;31m \u001b[0mx_test\u001b[0m\u001b[0;34m[\u001b[0m\u001b[0;36m0\u001b[0m\u001b[0;34m,\u001b[0m\u001b[0;34m:\u001b[0m\u001b[0;34m]\u001b[0m\u001b[0;34m\u001b[0m\u001b[0;34m\u001b[0m\u001b[0m\n\u001b[0m",
      "\u001b[0;31mNameError\u001b[0m: name 'x_test' is not defined"
     ]
    }
   ],
   "source": [
    "x_test[0,:]"
   ]
  },
  {
   "cell_type": "code",
   "execution_count": null,
   "metadata": {
    "colab": {
     "base_uri": "https://localhost:8080/"
    },
    "id": "uYx53_0gD_ii",
    "outputId": "ae4e5185-2497-46db-bd27-d47e64c2fae9"
   },
   "outputs": [],
   "source": [
    "index = imdb.get_word_index()\n",
    "len(index)"
   ]
  },
  {
   "cell_type": "code",
   "execution_count": null,
   "metadata": {
    "colab": {
     "base_uri": "https://localhost:8080/"
    },
    "id": "_sKgJlmOEaYo",
    "outputId": "a9a1eb7b-6239-4bf1-9d5f-df544eaf491a"
   },
   "outputs": [],
   "source": [
    "np.max(x_train)"
   ]
  },
  {
   "cell_type": "code",
   "execution_count": null,
   "metadata": {
    "colab": {
     "base_uri": "https://localhost:8080/"
    },
    "id": "C6QQVTyYGDSu",
    "outputId": "5862b7c9-940a-41b5-b526-a01bf0bb603b"
   },
   "outputs": [],
   "source": [
    "max_features"
   ]
  },
  {
   "cell_type": "markdown",
   "metadata": {
    "id": "dK9nZwfEHkZ7"
   },
   "source": [
    "\"Мешок слов\" - Bag of Word (BoW) \n",
    "\n",
    "http://lab314.brsu.by/kmp-lite/kmp2/JOB/CModel/BoW-Q.htm\n",
    "\n",
    "\n",
    "\n"
   ]
  },
  {
   "cell_type": "code",
   "execution_count": null,
   "metadata": {
    "id": "MAEpc8VBDpa9"
   },
   "outputs": [],
   "source": [
    "def vectorize(sequences, dimension = 10000):\n",
    "  results = np.zeros((len(sequences), dimension))\n",
    "  for i, sequence in enumerate(sequences):\n",
    "    results[i, sequence] = 1\n",
    "  return results\n",
    " \n",
    "data_train = vectorize(x_train, dimension = max_features)\n",
    "data_test = vectorize(x_test, dimension = max_features)\n"
   ]
  },
  {
   "cell_type": "code",
   "execution_count": null,
   "metadata": {
    "colab": {
     "base_uri": "https://localhost:8080/"
    },
    "id": "dGP_LHw5Ialo",
    "outputId": "f788ebb1-4b8e-493b-d329-cdf26a2e933e"
   },
   "outputs": [],
   "source": [
    "\n",
    "print('Построение модели...')\n",
    "modelbow = Sequential()\n",
    "\n",
    "modelbow.add(Dense(128,activation='relu',input_shape=(max_features, )))\n",
    "\n",
    "modelbow.add(Dense(1, activation='sigmoid'))\n",
    "\n",
    "# стоит попробовать использовать другие оптимайзер и другие конфигурации оптимайзеров \n",
    "modelbow.compile(loss='binary_crossentropy',\n",
    "              optimizer='adam',\n",
    "              metrics=['accuracy'])"
   ]
  },
  {
   "cell_type": "code",
   "execution_count": null,
   "metadata": {
    "colab": {
     "base_uri": "https://localhost:8080/"
    },
    "id": "fy0kwNGFIsU-",
    "outputId": "6b80af08-9b32-4b96-cffd-2ae8f54a2083"
   },
   "outputs": [],
   "source": [
    "print('Процесс обучения...')\n",
    "modelbow.fit(data_train[:10000,:], y_train[:10000],\n",
    "          batch_size=batch_size,\n",
    "          epochs=5, # увеличьте при необходимости\n",
    "          validation_data=(data_test, y_test))"
   ]
  },
  {
   "cell_type": "code",
   "execution_count": null,
   "metadata": {
    "colab": {
     "base_uri": "https://localhost:8080/"
    },
    "id": "2AXyHx2jLCeH",
    "outputId": "cff5ab29-fa8a-4389-d286-96778450d501"
   },
   "outputs": [],
   "source": [
    "modelbow.summary()"
   ]
  },
  {
   "cell_type": "markdown",
   "metadata": {
    "id": "oTfbQ6OBRp1l"
   },
   "source": [
    "обучение на последоветельности"
   ]
  },
  {
   "cell_type": "code",
   "execution_count": null,
   "metadata": {
    "id": "GstuABaVM0tv"
   },
   "outputs": [],
   "source": [
    "def vectorize_seq(sequences,xLen = 100, step = 1):\n",
    "  results = np.zeros((len(sequences), xLen,1))\n",
    "  for i, sequence in enumerate(sequences):\n",
    "    for j in range(xLen) :\n",
    "       \n",
    "      results[i, j,:] = sequence[j]\n",
    "  return results\n",
    " \n",
    "data_train_seq = vectorize_seq(x_train, xLen = 80)\n",
    "data_test_seq = vectorize_seq(x_test, xLen = 80)"
   ]
  },
  {
   "cell_type": "code",
   "execution_count": null,
   "metadata": {
    "colab": {
     "base_uri": "https://localhost:8080/"
    },
    "id": "SsmzCJY8Odhx",
    "outputId": "c876570d-d38d-4b83-efed-5d279c0051a0"
   },
   "outputs": [],
   "source": [
    "data_test_seq.shape"
   ]
  },
  {
   "cell_type": "code",
   "execution_count": null,
   "metadata": {
    "colab": {
     "base_uri": "https://localhost:8080/"
    },
    "id": "-5WgurStDH7r",
    "outputId": "547964cd-33d7-42ab-8b86-fbd434649c05"
   },
   "outputs": [],
   "source": [
    "# https://keras.io/examples/nlp/bidirectional_lstm_imdb/\n",
    "\n",
    "print('Построение модели...')\n",
    "model = Sequential()\n",
    "\n",
    "model.add(LSTM(128,return_sequences=False,input_shape=( 80,1)))\n",
    "\n",
    "model.add(Dense(1, activation='sigmoid'))\n",
    "\n",
    "# стоит попробовать использовать другие оптимайзер и другие конфигурации оптимайзеров \n",
    "model.compile(loss='binary_crossentropy',\n",
    "              optimizer='adam',\n",
    "              metrics=['accuracy'])\n",
    "\n"
   ]
  },
  {
   "cell_type": "code",
   "execution_count": null,
   "metadata": {
    "colab": {
     "base_uri": "https://localhost:8080/"
    },
    "id": "RB_jXARMPB09",
    "outputId": "fcfffc6f-0455-47c3-f173-d881ff9b3c4b"
   },
   "outputs": [],
   "source": [
    "print('Процесс обучения...')\n",
    "model.fit(data_train_seq, y_train,\n",
    "          batch_size=100,\n",
    "          epochs=3, # увеличьте при необходимости\n",
    "          validation_data=(data_test_seq, y_test))"
   ]
  },
  {
   "cell_type": "code",
   "execution_count": null,
   "metadata": {
    "colab": {
     "base_uri": "https://localhost:8080/"
    },
    "id": "R22U-vONRiX9",
    "outputId": "cbb21739-09ae-4138-90f4-486e606b3be3"
   },
   "outputs": [],
   "source": [
    "# https://keras.io/examples/nlp/bidirectional_lstm_imdb/\n",
    "\n",
    "print('Построение модели...')\n",
    "model = Sequential()\n",
    "\n",
    "model.add(Embedding(max_features, 128))\n",
    "model.add(LSTM(128, dropout=0.2, recurrent_dropout=0.2))\n",
    "\n",
    "model.add(Dense(1, activation='sigmoid'))\n",
    "\n",
    "# стоит попробовать использовать другие оптимайзер и другие конфигурации оптимайзеров \n",
    "model.compile(loss='binary_crossentropy',\n",
    "              optimizer='adam',\n",
    "              metrics=['accuracy'])\n"
   ]
  },
  {
   "cell_type": "code",
   "execution_count": null,
   "metadata": {
    "colab": {
     "base_uri": "https://localhost:8080/"
    },
    "id": "g6GFt6iHDK71",
    "outputId": "1c1a529d-0788-4423-e779-c3315753d140"
   },
   "outputs": [],
   "source": [
    "print('Процесс обучения...')\n",
    "model.fit(x_train, y_train,\n",
    "          batch_size=batch_size,\n",
    "          epochs=1, # увеличьте при необходимости\n",
    "          validation_data=(x_test, y_test))\n",
    "score, acc = model.evaluate(x_test, y_test,\n",
    "                            batch_size=batch_size)\n",
    "print('Результат при тестировании:', score)\n",
    "print('Тестовая точность:', acc)"
   ]
  },
  {
   "cell_type": "markdown",
   "metadata": {
    "id": "XQG-By7XTjuI"
   },
   "source": [
    "LSTM  imbd c попыткой показать существенные слова (по Shaple)\n",
    "\n",
    "https://slundberg.github.io/shap/notebooks/deep_explainer/Keras%20LSTM%20for%20IMDB%20Sentiment%20Classification.html "
   ]
  },
  {
   "cell_type": "markdown",
   "metadata": {
    "id": "zjQWWYJpTEPy"
   },
   "source": [
    "## Практическое задание\n",
    "\n",
    "<ol>\n",
    "    <li>Попробуйте обучить нейронную сеть LSTM на любом другом датасете (любимый временной ряд, текст на русском (другом языке) как генератор или классификатор, или прилагаемый набор airline-passengers - пасажиропоток для авиалиний). Опишите, какой результата вы получили? Что помогло вам улучшить ее точность?\n",
    "\n",
    "    \n",
    "<li>*Попробуйте на numpy реализовать нейронную сеть архитектуры LSTM</li>\n",
    "<li>*Предложите свои варианты решения проблемы исчезающего градиента в RNN</li>\n",
    "</ol>"
   ]
  }
 ],
 "metadata": {
  "colab": {
   "name": "metodich5.ipynb",
   "provenance": [],
   "toc_visible": true
  },
  "kernelspec": {
   "display_name": "Python 3",
   "language": "python",
   "name": "python3"
  },
  "language_info": {
   "codemirror_mode": {
    "name": "ipython",
    "version": 3
   },
   "file_extension": ".py",
   "mimetype": "text/x-python",
   "name": "python",
   "nbconvert_exporter": "python",
   "pygments_lexer": "ipython3",
   "version": "3.7.10"
  }
 },
 "nbformat": 4,
 "nbformat_minor": 1
}
