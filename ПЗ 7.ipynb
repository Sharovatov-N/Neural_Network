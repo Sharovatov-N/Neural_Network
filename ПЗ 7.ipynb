{
 "cells": [
  {
   "cell_type": "markdown",
   "id": "ae496f65",
   "metadata": {},
   "source": [
    "## ПЗ 7"
   ]
  },
  {
   "cell_type": "markdown",
   "id": "32451794",
   "metadata": {},
   "source": [
    "**Мария, доброе время суток. К сожелению, я не успеваю сделать задание в срок. Мне нужна еще неделя (до 22.06.21), если это возможно. С Уважением ...**"
   ]
  }
 ],
 "metadata": {
  "kernelspec": {
   "display_name": "Python 3",
   "language": "python",
   "name": "python3"
  },
  "language_info": {
   "codemirror_mode": {
    "name": "ipython",
    "version": 3
   },
   "file_extension": ".py",
   "mimetype": "text/x-python",
   "name": "python",
   "nbconvert_exporter": "python",
   "pygments_lexer": "ipython3",
   "version": "3.7.10"
  }
 },
 "nbformat": 4,
 "nbformat_minor": 5
}
