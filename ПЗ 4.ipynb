{
 "cells": [
  {
   "cell_type": "markdown",
   "metadata": {
    "id": "GJqW1sHnm591"
   },
   "source": [
    "## ПЗ 4 "
   ]
  },
  {
   "cell_type": "code",
   "execution_count": 1,
   "metadata": {
    "id": "jVlE5weZatMB"
   },
   "outputs": [],
   "source": [
    "import numpy as np\n",
    "import tensorflow as tf\n",
    "from tensorflow.keras.models import Sequential, Model\n",
    "from tensorflow.keras.layers import Conv2D, Input, Flatten, Dense\n",
    "from tensorflow.keras.layers import GlobalMaxPooling2D, MaxPooling2D, AveragePooling2D, GlobalAveragePooling2D \n",
    "from scipy import misc\n",
    "import matplotlib.pyplot as plt\n",
    "import os"
   ]
  },
  {
   "cell_type": "markdown",
   "metadata": {},
   "source": [
    "### Собрал сеть в стиле архитектуры AlexNet"
   ]
  },
  {
   "cell_type": "code",
   "execution_count": 2,
   "metadata": {},
   "outputs": [
    {
     "name": "stdout",
     "output_type": "stream",
     "text": [
      "Model: \"model\"\n",
      "_________________________________________________________________\n",
      "Layer (type)                 Output Shape              Param #   \n",
      "=================================================================\n",
      "input_1 (InputLayer)         [(None, 28, 28, 1)]       0         \n",
      "_________________________________________________________________\n",
      "conv2d (Conv2D)              (None, 24, 24, 96)        2496      \n",
      "_________________________________________________________________\n",
      "max_pooling2d (MaxPooling2D) (None, 12, 12, 96)        0         \n",
      "_________________________________________________________________\n",
      "conv2d_1 (Conv2D)            (None, 12, 12, 256)       614656    \n",
      "_________________________________________________________________\n",
      "max_pooling2d_1 (MaxPooling2 (None, 6, 6, 256)         0         \n",
      "_________________________________________________________________\n",
      "conv2d_2 (Conv2D)            (None, 6, 6, 384)         885120    \n",
      "_________________________________________________________________\n",
      "conv2d_3 (Conv2D)            (None, 6, 6, 384)         1327488   \n",
      "_________________________________________________________________\n",
      "conv2d_4 (Conv2D)            (None, 6, 6, 256)         884992    \n",
      "_________________________________________________________________\n",
      "max_pooling2d_2 (MaxPooling2 (None, 3, 3, 256)         0         \n",
      "_________________________________________________________________\n",
      "flatten (Flatten)            (None, 2304)              0         \n",
      "_________________________________________________________________\n",
      "dense (Dense)                (None, 84)                193620    \n",
      "_________________________________________________________________\n",
      "dense_1 (Dense)              (None, 10)                850       \n",
      "=================================================================\n",
      "Total params: 3,909,222\n",
      "Trainable params: 3,909,222\n",
      "Non-trainable params: 0\n",
      "_________________________________________________________________\n"
     ]
    }
   ],
   "source": [
    "# создание модели\n",
    "x_input = Input(shape=(28,28,1))\n",
    "x_1 = Conv2D(96, (5, 5), activation='relu')(x_input)\n",
    "x_2 = MaxPooling2D(strides=(2, 2), padding='valid')(x_1)\n",
    "x_3 = Conv2D(256, (5, 5), activation='relu', padding='same')(x_2)\n",
    "x_4 = MaxPooling2D(strides=(2, 2), padding='valid')(x_3)\n",
    "x_5 = Conv2D(384, (3, 3), strides=(1, 1), activation='relu', padding='same')(x_4)\n",
    "x_6 = Conv2D(384, (3, 3), strides=(1, 1), activation='relu', padding='same')(x_5)\n",
    "x_7 = Conv2D(256, (3, 3), strides=(1, 1), activation='relu', padding='same')(x_6)\n",
    "x_8 = MaxPooling2D(strides=(2, 2), padding='valid')(x_7)\n",
    "x_9 = Flatten()(x_8)\n",
    "x_10 = Dense(84, activation='relu')(x_9)\n",
    "x_output = Dense(10, activation='softmax')(x_10)\n",
    "\n",
    "model = Model(x_input,x_output)\n",
    "\n",
    "model.summary()\n"
   ]
  },
  {
   "cell_type": "code",
   "execution_count": 3,
   "metadata": {},
   "outputs": [
    {
     "name": "stdout",
     "output_type": "stream",
     "text": [
      "(60000, 28, 28)\n"
     ]
    }
   ],
   "source": [
    "to_categorical = tf.keras.utils.to_categorical\n",
    "mnist = tf.keras.datasets.fashion_mnist\n",
    "\n",
    "(train_images, train_labels), (test_images, test_labels) = mnist.load_data()\n",
    "\n",
    "print (train_images.shape)\n",
    "train_images = train_images.reshape((60000, 28, 28, 1))\n",
    "train_images = train_images.astype('float32') / 255\n",
    "\n",
    "test_images = test_images.reshape((10000, 28, 28, 1))\n",
    "test_images = test_images.astype('float32') / 255\n",
    "\n",
    "train_labels = to_categorical(train_labels)\n",
    "test_labels = to_categorical(test_labels)"
   ]
  },
  {
   "cell_type": "code",
   "execution_count": 4,
   "metadata": {},
   "outputs": [
    {
     "name": "stdout",
     "output_type": "stream",
     "text": [
      "Epoch 1/10\n",
      "469/469 [==============================] - 28s 49ms/step - loss: 1.4678 - accuracy: 0.5145\n",
      "Epoch 2/10\n",
      "469/469 [==============================] - 22s 46ms/step - loss: 0.7335 - accuracy: 0.7228\n",
      "Epoch 3/10\n",
      "469/469 [==============================] - 22s 46ms/step - loss: 0.6250 - accuracy: 0.7666\n",
      "Epoch 4/10\n",
      "469/469 [==============================] - 22s 47ms/step - loss: 0.5567 - accuracy: 0.7936\n",
      "Epoch 5/10\n",
      "469/469 [==============================] - 22s 47ms/step - loss: 0.5123 - accuracy: 0.8103\n",
      "Epoch 6/10\n",
      "469/469 [==============================] - 22s 47ms/step - loss: 0.4747 - accuracy: 0.8242\n",
      "Epoch 7/10\n",
      "469/469 [==============================] - 22s 47ms/step - loss: 0.4495 - accuracy: 0.8340\n",
      "Epoch 8/10\n",
      "469/469 [==============================] - 22s 47ms/step - loss: 0.4248 - accuracy: 0.8439\n",
      "Epoch 9/10\n",
      "469/469 [==============================] - 22s 47ms/step - loss: 0.4075 - accuracy: 0.8508\n",
      "Epoch 10/10\n",
      "469/469 [==============================] - 22s 47ms/step - loss: 0.3894 - accuracy: 0.8570\n"
     ]
    },
    {
     "data": {
      "text/plain": [
       "<tensorflow.python.keras.callbacks.History at 0x7f43583289d0>"
      ]
     },
     "execution_count": 4,
     "metadata": {},
     "output_type": "execute_result"
    }
   ],
   "source": [
    "batch_size = 128\n",
    "epochs = 10\n",
    "\n",
    "model.compile(loss='categorical_crossentropy',\n",
    "              optimizer='sgd',\n",
    "              metrics=['accuracy'])\n",
    "\n",
    "model.fit(train_images, train_labels,\n",
    "          batch_size=batch_size,\n",
    "          epochs=epochs,\n",
    "          verbose=1\n",
    "          )"
   ]
  },
  {
   "cell_type": "code",
   "execution_count": 5,
   "metadata": {},
   "outputs": [
    {
     "name": "stdout",
     "output_type": "stream",
     "text": [
      "313/313 [==============================] - 4s 10ms/step - loss: 0.4334 - accuracy: 0.8408\n",
      "Test loss: 0.433445543050766\n",
      "Test accuracy: 0.8407999873161316\n"
     ]
    }
   ],
   "source": [
    "test_loss, test_acc = model.evaluate(test_images, test_labels)\n",
    "\n",
    "print('Test loss:', test_loss)\n",
    "print('Test accuracy:', test_acc)"
   ]
  },
  {
   "cell_type": "markdown",
   "metadata": {},
   "source": [
    "#### * При длительном обучении можно получить не плохой результат, но поднять Test accuracy выше 0.9 не получается."
   ]
  },
  {
   "cell_type": "markdown",
   "metadata": {},
   "source": [
    "### Собрал самую простую CNN (один сверточный слой + пулинговый слой)"
   ]
  },
  {
   "cell_type": "code",
   "execution_count": 2,
   "metadata": {},
   "outputs": [
    {
     "name": "stdout",
     "output_type": "stream",
     "text": [
      "Model: \"model\"\n",
      "_________________________________________________________________\n",
      "Layer (type)                 Output Shape              Param #   \n",
      "=================================================================\n",
      "input_1 (InputLayer)         [(None, 28, 28, 1)]       0         \n",
      "_________________________________________________________________\n",
      "conv2d (Conv2D)              (None, 24, 24, 256)       6656      \n",
      "_________________________________________________________________\n",
      "max_pooling2d (MaxPooling2D) (None, 12, 12, 256)       0         \n",
      "_________________________________________________________________\n",
      "flatten (Flatten)            (None, 36864)             0         \n",
      "_________________________________________________________________\n",
      "dense (Dense)                (None, 10)                368650    \n",
      "=================================================================\n",
      "Total params: 375,306\n",
      "Trainable params: 375,306\n",
      "Non-trainable params: 0\n",
      "_________________________________________________________________\n"
     ]
    }
   ],
   "source": [
    "# создание самой простой модели\n",
    "x_input = Input(shape=(28,28,1))\n",
    "x_1 = Conv2D(256, (5, 5), activation='relu')(x_input)\n",
    "x_2 = MaxPooling2D(strides=(2, 2), padding='valid')(x_1)\n",
    "x_3 = Flatten()(x_2)\n",
    "x_output = Dense(10, activation='softmax')(x_3)\n",
    "\n",
    "model = Model(x_input,x_output)\n",
    "\n",
    "model.summary()"
   ]
  },
  {
   "cell_type": "code",
   "execution_count": 3,
   "metadata": {},
   "outputs": [
    {
     "name": "stdout",
     "output_type": "stream",
     "text": [
      "(60000, 28, 28)\n"
     ]
    }
   ],
   "source": [
    "to_categorical = tf.keras.utils.to_categorical\n",
    "mnist = tf.keras.datasets.fashion_mnist\n",
    "\n",
    "(train_images, train_labels), (test_images, test_labels) = mnist.load_data()\n",
    "\n",
    "print (train_images.shape)\n",
    "train_images = train_images.reshape((60000, 28, 28, 1))\n",
    "train_images = train_images.astype('float32') / 255\n",
    "\n",
    "test_images = test_images.reshape((10000, 28, 28, 1))\n",
    "test_images = test_images.astype('float32') / 255\n",
    "\n",
    "train_labels = to_categorical(train_labels)\n",
    "test_labels = to_categorical(test_labels)"
   ]
  },
  {
   "cell_type": "code",
   "execution_count": 4,
   "metadata": {},
   "outputs": [
    {
     "name": "stdout",
     "output_type": "stream",
     "text": [
      "Epoch 1/10\n",
      "469/469 [==============================] - 9s 16ms/step - loss: 1.0058 - accuracy: 0.6767\n",
      "Epoch 2/10\n",
      "469/469 [==============================] - 7s 16ms/step - loss: 0.6458 - accuracy: 0.7691\n",
      "Epoch 3/10\n",
      "469/469 [==============================] - 7s 15ms/step - loss: 0.5900 - accuracy: 0.7895\n",
      "Epoch 4/10\n",
      "469/469 [==============================] - 7s 16ms/step - loss: 0.5501 - accuracy: 0.8040\n",
      "Epoch 5/10\n",
      "469/469 [==============================] - 7s 15ms/step - loss: 0.5216 - accuracy: 0.8142\n",
      "Epoch 6/10\n",
      "469/469 [==============================] - 7s 15ms/step - loss: 0.5028 - accuracy: 0.8230\n",
      "Epoch 7/10\n",
      "469/469 [==============================] - 7s 15ms/step - loss: 0.4866 - accuracy: 0.8285\n",
      "Epoch 8/10\n",
      "469/469 [==============================] - 7s 15ms/step - loss: 0.4675 - accuracy: 0.8368\n",
      "Epoch 9/10\n",
      "469/469 [==============================] - 7s 15ms/step - loss: 0.4606 - accuracy: 0.8400\n",
      "Epoch 10/10\n",
      "469/469 [==============================] - 7s 15ms/step - loss: 0.4485 - accuracy: 0.8436\n"
     ]
    },
    {
     "data": {
      "text/plain": [
       "<tensorflow.python.keras.callbacks.History at 0x7f7370cf6c50>"
      ]
     },
     "execution_count": 4,
     "metadata": {},
     "output_type": "execute_result"
    }
   ],
   "source": [
    "batch_size = 128\n",
    "epochs = 10\n",
    "\n",
    "model.compile(loss='categorical_crossentropy',\n",
    "              optimizer='sgd',\n",
    "              metrics=['accuracy'])\n",
    "\n",
    "model.fit(train_images, train_labels,\n",
    "          batch_size=batch_size,\n",
    "          epochs=epochs,\n",
    "          verbose=1\n",
    "          )"
   ]
  },
  {
   "cell_type": "code",
   "execution_count": 5,
   "metadata": {},
   "outputs": [
    {
     "name": "stdout",
     "output_type": "stream",
     "text": [
      "313/313 [==============================] - 2s 5ms/step - loss: 0.4554 - accuracy: 0.8413\n",
      "Test loss: 0.455410897731781\n",
      "Test accuracy: 0.8413000106811523\n"
     ]
    }
   ],
   "source": [
    "test_loss, test_acc = model.evaluate(test_images, test_labels)\n",
    "\n",
    "print('Test loss:', test_loss)\n",
    "print('Test accuracy:', test_acc)"
   ]
  },
  {
   "cell_type": "markdown",
   "metadata": {},
   "source": [
    "### Для чистоты эксперемента при запуске каждой модели, перезагружал ядро jupyter notebook. Результат получился неожиданный: - простая модель показывает если не лучший результат то такой же как и более сложная модель."
   ]
  },
  {
   "cell_type": "code",
   "execution_count": null,
   "metadata": {},
   "outputs": [],
   "source": []
  }
 ],
 "metadata": {
  "accelerator": "GPU",
  "colab": {
   "collapsed_sections": [],
   "name": "metodich4_colab.ipynb",
   "provenance": []
  },
  "kernelspec": {
   "display_name": "Python 3",
   "language": "python",
   "name": "python3"
  },
  "language_info": {
   "codemirror_mode": {
    "name": "ipython",
    "version": 3
   },
   "file_extension": ".py",
   "mimetype": "text/x-python",
   "name": "python",
   "nbconvert_exporter": "python",
   "pygments_lexer": "ipython3",
   "version": "3.7.10"
  }
 },
 "nbformat": 4,
 "nbformat_minor": 1
}
