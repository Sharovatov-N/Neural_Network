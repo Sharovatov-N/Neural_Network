{
 "cells": [
  {
   "cell_type": "markdown",
   "metadata": {
    "id": "GJqW1sHnm591"
   },
   "source": [
    "## ПЗ 4 Работа не доделана, не успеваю. будет готова к 07.06.21"
   ]
  },
  {
   "cell_type": "code",
   "execution_count": 1,
   "metadata": {
    "id": "jVlE5weZatMB"
   },
   "outputs": [],
   "source": [
    "import numpy as np\n",
    "import tensorflow as tf\n",
    "from tensorflow.keras.models import Sequential, Model\n",
    "from tensorflow.keras.layers import Conv2D, Input, Flatten, Dense\n",
    "from tensorflow.keras.layers import GlobalMaxPooling2D, MaxPooling2D, AveragePooling2D, GlobalAveragePooling2D \n",
    "from scipy import misc\n",
    "import matplotlib.pyplot as plt"
   ]
  },
  {
   "cell_type": "code",
   "execution_count": 6,
   "metadata": {},
   "outputs": [
    {
     "name": "stdout",
     "output_type": "stream",
     "text": [
      "Model: \"model_1\"\n",
      "_________________________________________________________________\n",
      "Layer (type)                 Output Shape              Param #   \n",
      "=================================================================\n",
      "input_2 (InputLayer)         [(None, 28, 28, 1)]       0         \n",
      "_________________________________________________________________\n",
      "conv2d_3 (Conv2D)            (None, 28, 28, 32)        832       \n",
      "_________________________________________________________________\n",
      "max_pooling2d_3 (MaxPooling2 (None, 27, 27, 32)        0         \n",
      "_________________________________________________________________\n",
      "conv2d_4 (Conv2D)            (None, 23, 23, 64)        51264     \n",
      "_________________________________________________________________\n",
      "max_pooling2d_4 (MaxPooling2 (None, 11, 11, 64)        0         \n",
      "_________________________________________________________________\n",
      "conv2d_5 (Conv2D)            (None, 7, 7, 128)         204928    \n",
      "_________________________________________________________________\n",
      "flatten_1 (Flatten)          (None, 6272)              0         \n",
      "_________________________________________________________________\n",
      "dense_2 (Dense)              (None, 84)                526932    \n",
      "_________________________________________________________________\n",
      "dense_3 (Dense)              (None, 10)                850       \n",
      "=================================================================\n",
      "Total params: 784,806\n",
      "Trainable params: 784,806\n",
      "Non-trainable params: 0\n",
      "_________________________________________________________________\n"
     ]
    }
   ],
   "source": [
    "# создание модели\n",
    "x_input = Input(shape=(28,28,1))\n",
    "x_conv_1 = Conv2D(32, (5, 5), activation='tanh',  padding=\"same\")(x_input)\n",
    "x_pool_1 = MaxPooling2D(strides=(1, 1), padding='valid')(x_conv_1)\n",
    "x_conv_2 = Conv2D(64, (5, 5), activation='tanh', padding='valid')(x_pool_1)\n",
    "x_pool_2 = MaxPooling2D(strides=(2, 2), padding='valid')(x_conv_2)\n",
    "x_conv_3 = Conv2D(128, kernel_size=(5, 5), strides=(1, 1), activation='tanh', padding='valid')(x_pool_2)\n",
    "#x_pool_3 = MaxPooling2D(strides=(2, 2), padding='valid')(x_conv_3)\n",
    "x_f = Flatten()(x_conv_3)\n",
    "x_d = Dense(84, activation='tanh')(x_f)\n",
    "x_output = Dense(10, activation='softmax')(x_d)\n",
    "\n",
    "model = Model(x_input,x_output)\n",
    "\n",
    "model.summary()\n"
   ]
  },
  {
   "cell_type": "code",
   "execution_count": 7,
   "metadata": {},
   "outputs": [
    {
     "name": "stdout",
     "output_type": "stream",
     "text": [
      "(60000, 28, 28)\n"
     ]
    }
   ],
   "source": [
    "to_categorical = tf.keras.utils.to_categorical\n",
    "mnist = tf.keras.datasets.fashion_mnist\n",
    "\n",
    "(train_images, train_labels), (test_images, test_labels) = mnist.load_data()\n",
    "\n",
    "print (train_images.shape)\n",
    "train_images = train_images.reshape((60000, 28, 28, 1))\n",
    "train_images = train_images.astype('float32') / 255\n",
    "\n",
    "test_images = test_images.reshape((10000, 28, 28, 1))\n",
    "test_images = test_images.astype('float32') / 255\n",
    "\n",
    "train_labels = to_categorical(train_labels)\n",
    "test_labels = to_categorical(test_labels)"
   ]
  },
  {
   "cell_type": "code",
   "execution_count": 8,
   "metadata": {},
   "outputs": [
    {
     "name": "stdout",
     "output_type": "stream",
     "text": [
      "Epoch 1/10\n",
      "469/469 [==============================] - 7s 15ms/step - loss: 0.8812 - accuracy: 0.6963\n",
      "Epoch 2/10\n",
      "469/469 [==============================] - 7s 15ms/step - loss: 0.5617 - accuracy: 0.7940\n",
      "Epoch 3/10\n",
      "469/469 [==============================] - 7s 16ms/step - loss: 0.4943 - accuracy: 0.8212\n",
      "Epoch 4/10\n",
      "469/469 [==============================] - 7s 15ms/step - loss: 0.4530 - accuracy: 0.8388\n",
      "Epoch 5/10\n",
      "469/469 [==============================] - 7s 15ms/step - loss: 0.4247 - accuracy: 0.8488\n",
      "Epoch 6/10\n",
      "469/469 [==============================] - 7s 16ms/step - loss: 0.4035 - accuracy: 0.8557\n",
      "Epoch 7/10\n",
      "469/469 [==============================] - 7s 15ms/step - loss: 0.3860 - accuracy: 0.8615\n",
      "Epoch 8/10\n",
      "469/469 [==============================] - 7s 16ms/step - loss: 0.3710 - accuracy: 0.8670\n",
      "Epoch 9/10\n",
      "469/469 [==============================] - 7s 15ms/step - loss: 0.3585 - accuracy: 0.8716\n",
      "Epoch 10/10\n",
      "469/469 [==============================] - 7s 15ms/step - loss: 0.3482 - accuracy: 0.8742\n"
     ]
    },
    {
     "data": {
      "text/plain": [
       "<tensorflow.python.keras.callbacks.History at 0x7f7fc8a15410>"
      ]
     },
     "execution_count": 8,
     "metadata": {},
     "output_type": "execute_result"
    }
   ],
   "source": [
    "batch_size = 128\n",
    "epochs = 10\n",
    "\n",
    "model.compile(loss='categorical_crossentropy',\n",
    "              optimizer='sgd',\n",
    "              metrics=['accuracy'])\n",
    "\n",
    "model.fit(train_images, train_labels,\n",
    "          batch_size=batch_size,\n",
    "          epochs=epochs,\n",
    "          verbose=1\n",
    "          )"
   ]
  },
  {
   "cell_type": "code",
   "execution_count": 9,
   "metadata": {},
   "outputs": [
    {
     "name": "stdout",
     "output_type": "stream",
     "text": [
      "313/313 [==============================] - 2s 5ms/step - loss: 0.3680 - accuracy: 0.8676\n",
      "Test loss: 0.3679646849632263\n",
      "Test accuracy: 0.8676000237464905\n"
     ]
    }
   ],
   "source": [
    "test_loss, test_acc = model.evaluate(test_images, test_labels)\n",
    "\n",
    "print('Test loss:', test_loss)\n",
    "print('Test accuracy:', test_acc)"
   ]
  },
  {
   "cell_type": "code",
   "execution_count": null,
   "metadata": {},
   "outputs": [],
   "source": []
  }
 ],
 "metadata": {
  "accelerator": "GPU",
  "colab": {
   "collapsed_sections": [],
   "name": "metodich4_colab.ipynb",
   "provenance": []
  },
  "kernelspec": {
   "display_name": "Python 3",
   "language": "python",
   "name": "python3"
  },
  "language_info": {
   "codemirror_mode": {
    "name": "ipython",
    "version": 3
   },
   "file_extension": ".py",
   "mimetype": "text/x-python",
   "name": "python",
   "nbconvert_exporter": "python",
   "pygments_lexer": "ipython3",
   "version": "3.7.10"
  }
 },
 "nbformat": 4,
 "nbformat_minor": 1
}
