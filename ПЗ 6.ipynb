{
 "cells": [
  {
   "cell_type": "markdown",
   "metadata": {},
   "source": [
    "## ПЗ 6"
   ]
  },
  {
   "cell_type": "markdown",
   "metadata": {
    "id": "JoO-GqyEZQi-"
   },
   "source": [
    "\n",
    "### **1) Импорт пакетов**\n"
   ]
  },
  {
   "cell_type": "code",
   "execution_count": 1,
   "metadata": {
    "id": "jM2zzpbPc5vR"
   },
   "outputs": [],
   "source": [
    "\n",
    "import tensorflow as tf\n",
    "import numpy as np\n",
    "import glob\n",
    "import os\n",
    "from PIL import Image , ImageOps\n"
   ]
  },
  {
   "cell_type": "markdown",
   "metadata": {
    "id": "f1OyxrUsZ0Yd"
   },
   "source": [
    "\n",
    "### **2) Загрузка набора данных Cityscape**\n",
    "\n",
    "Загрузим подмножество исходного набора данных из Kaggle.com. Это [Cityscapes Image Pairs](https://www.kaggle.com/dansbecker/cityscapes-image-pairs) от [DanB](https://www.kaggle.com/dansbecker). "
   ]
  },
  {
   "cell_type": "markdown",
   "metadata": {
    "id": "P43MGQhkCHcg"
   },
   "source": [
    "\n",
    "### **3) Обработка изображений.**\n",
    "\n",
    "Разделим составное изображение на две части: одну, которая содержит маску, и вторую, которая является фактическим изображением.\n",
    "\n",
    "- Класс \"дорога\" в маске имеет цвет значения RGB `( 128 , 63 , 127 )`. Преобразуем изображение в двоичную форму.\n",
    "- Пикселям, имеющим значение RGB `( 128 , 63 , 127 )` будет присвоено новое значение 1. Остальные все пиксели будут иметь новое значение 0.\n",
    "- Следовательно, форма изображения изменяется с `( 128 , 128 , 3 )` на `( 128 , 128 , 1 )`.\n"
   ]
  },
  {
   "cell_type": "code",
   "execution_count": 2,
   "metadata": {
    "id": "FFSFjJkwcpNk"
   },
   "outputs": [],
   "source": [
    "\n",
    "from sklearn.model_selection import train_test_split\n",
    "import matplotlib.pyplot as plt\n",
    "\n",
    "x = list()\n",
    "y = list()\n",
    "\n",
    "num_images = 400 \n",
    "\n",
    "image_dir = 'cityscape_images/images'\n",
    "image_filenames = os.listdir( image_dir )\n",
    "for filename in image_filenames[ 0 : 100 ]:\n",
    "    image = Image \\\n",
    "        .open(os.path.join( image_dir, filename))\n",
    "    x.append( np.asarray( ImageOps.crop( image , ( 0 , 0 , 256 , 0 ) ).resize( ( 128, 128 )) ) )\n",
    "    y.append(np.asarray( ImageOps.crop(image, (256, 0, 0, 0)).resize( ( 128 , 128 ) ) ))\n",
    "\n",
    "x = np.array( x ) / 255\n",
    "y = np.array( y )\n",
    "\n",
    "train_features, test_features, train_labels, test_labels = train_test_split(np.array(x), np.array(y),\n",
    "                                                                                    test_size=0.4)\n",
    "\n",
    "def binarize( pixel ):\n",
    "    if np.array_equal( pixel , [ 128 , 63 , 127 ]):\n",
    "        return np.array( [ 1 ] )\n",
    "    else :\n",
    "        return np.array( [ 0 ] )\n",
    "\n",
    "train_labels = np.apply_along_axis( binarize , axis=3 , arr=train_labels ) \n",
    "test_labels = np.apply_along_axis( binarize , axis=3 , arr=test_labels ) \n",
    "\n",
    "batch_size = 5 \n",
    "\n",
    "train_dataset = tf.data.Dataset.from_tensor_slices( ( train_features , train_labels ) )\n",
    "train_dataset = train_dataset.shuffle( 1024 ).batch( batch_size )\n",
    "test_dataset = tf.data.Dataset.from_tensor_slices( ( test_features , test_labels ) )\n",
    "test_dataset = test_dataset.shuffle( 1024 ).batch( batch_size )\n"
   ]
  },
  {
   "cell_type": "markdown",
   "metadata": {
    "id": "LvqjhexUIWYG"
   },
   "source": [
    "\n",
    "### **4) Определение операций**\n",
    "\n",
    "Определим методы для четырех операций:\n",
    "\n",
    "1. `conv2d_down`: Обычная свертка с активацией Leaky ReLU.\n",
    "2. `maxpool_down`: Операция Max Pooling с padding=valid .\n",
    "3. `conv2d_up`: Транспонированная свертка для повышения разрешения изображения.\n",
    "4. `maxpool_up`: Повышение дискретизации вводного сигнала.\n"
   ]
  },
  {
   "cell_type": "code",
   "execution_count": 3,
   "metadata": {
    "id": "sXwbsMFzRxW6"
   },
   "outputs": [],
   "source": [
    "\n",
    "relu_alpha = 0.2 \n",
    "\n",
    "dropout_rate = 0.5\n",
    "\n",
    "padding = 'SAME'\n",
    "\n",
    "def conv2d_down( inputs , filters , stride_size ):\n",
    "    #print( 'conv2d down' )\n",
    "    out = tf.nn.conv2d( inputs , filters , strides=stride_size , padding=padding ) \n",
    "    return tf.nn.leaky_relu( out , alpha=0.2 ) \n",
    "\n",
    "def maxpool_down( inputs , pool_size , stride_size ):\n",
    "    #print( 'maxpool down' )\n",
    "    return tf.nn.max_pool( inputs , ksize=pool_size , padding='VALID' , strides=stride_size )\n",
    "\n",
    "def conv2d_up( inputs , filters , stride_size , output_shape ):\n",
    "    #print( 'conv2d up' )\n",
    "    out = tf.nn.conv2d_transpose( inputs , filters , output_shape=output_shape , strides=stride_size , padding=padding ) \n",
    "    return tf.nn.leaky_relu( out , alpha=0.2 ) \n",
    "\n",
    "def maxpool_up( inputs , size ):\n",
    "    #print( 'maxpool up' )\n",
    "    in_dimen = tf.shape( inputs )[ 1 ]\n",
    "    out_dimen = tf.cast( tf.round( in_dimen * size ) , dtype=tf.int32 ) \n",
    "    return tf.image.resize( inputs , [ out_dimen , out_dimen ] , method='nearest' ) \n"
   ]
  },
  {
   "cell_type": "markdown",
   "metadata": {
    "id": "p6nx0wc8I0QW"
   },
   "source": [
    "\n",
    "### **5) Инициализация весов**\n"
   ]
  },
  {
   "cell_type": "code",
   "execution_count": 4,
   "metadata": {
    "id": "VyWrGANLQoFc"
   },
   "outputs": [],
   "source": [
    "\n",
    "initializer = tf.initializers.glorot_uniform()\n",
    "def get_weight( shape , name ):\n",
    "    return tf.Variable( initializer( shape ) , name=name , trainable=True )\n",
    "\n",
    "shapes = [\n",
    "    [ 3 , 3 , 3 , 16 ] , \n",
    "    [ 3 , 3 , 16 , 16 ] , \n",
    "\n",
    "    [ 3 , 3 , 16 , 32 ] , \n",
    "    [ 3 , 3 , 32 , 32 ] ,\n",
    "\n",
    "    [ 3 , 3 , 32 , 64 ] , \n",
    "    [ 3 , 3 , 64 , 64 ] ,\n",
    "\n",
    "    [ 3 , 3 , 64 , 128 ] , \n",
    "    [ 3 , 3 , 128 , 128 ] ,\n",
    "\n",
    "    [ 3 , 3 , 128 , 256 ] , \n",
    "    [ 3 , 3 , 256 , 256 ] ,\n",
    "\n",
    "    [ 3 , 3 , 128 , 384 ],\n",
    "    [ 3 , 3 , 128 , 128 ],\n",
    "\n",
    "    [ 3 , 3 , 64 , 192 ],\n",
    "    [ 3 , 3 , 64 , 64 ],\n",
    "\n",
    "    [ 3 , 3 , 32 , 96 ],\n",
    "    [ 3 , 3 , 32 , 32 ],\n",
    "\n",
    "    [ 3 , 3 , 16 , 48 ],\n",
    "    [ 3 , 3 , 16 , 16 ],\n",
    "\n",
    "    [ 1 , 1 , 16 , 1 ],\n",
    "]\n",
    "\n",
    "weights = []\n",
    "for i in range( len( shapes ) ):\n",
    "    weights.append( get_weight( shapes[ i ] , 'weight{}'.format( i ) ) )\n"
   ]
  },
  {
   "cell_type": "markdown",
   "metadata": {
    "id": "53LX5eVzLB5P"
   },
   "source": [
    "\n",
    "### **6) Сборка модели**\n"
   ]
  },
  {
   "cell_type": "code",
   "execution_count": 5,
   "metadata": {
    "id": "z3w4D1V0SkZ8"
   },
   "outputs": [],
   "source": [
    "\n",
    "def model( x ) :\n",
    "    batch_size = tf.shape( x )[0]\n",
    "    x = tf.cast( x , dtype=tf.float32 )\n",
    "    c1 = conv2d_down( x , weights[ 0 ] , stride_size=1 ) \n",
    "    c1 = conv2d_down( c1 , weights[ 1 ] , stride_size=1 ) \n",
    "    p1 = maxpool_down( c1 , pool_size=2 , stride_size=2 )\n",
    "    \n",
    "    c2 = conv2d_down( p1 , weights[ 2 ] , stride_size=1 )\n",
    "    c2 = conv2d_down( c2 , weights[ 3 ] , stride_size=1 ) \n",
    "    p2 = maxpool_down( c2 , pool_size=2 , stride_size=2 )\n",
    "    \n",
    "    c3 = conv2d_down( p2 , weights[ 4 ] , stride_size=1 ) \n",
    "    c3 = conv2d_down( c3 , weights[ 5 ] , stride_size=1 ) \n",
    "    p3 = maxpool_down( c3 , pool_size=2 , stride_size=2 )\n",
    "    \n",
    "    c4 = conv2d_down( p3 , weights[ 6 ] , stride_size=1 )\n",
    "    c4 = conv2d_down( c4 , weights[ 7 ] , stride_size=1 )\n",
    "    p4 = maxpool_down( c4 , pool_size=2 , stride_size=2 )\n",
    "\n",
    "    c5 = conv2d_down( p4 , weights[ 8 ] , stride_size=1 )\n",
    "    c5 = conv2d_down( c5 , weights[ 9 ] , stride_size=1 ) \n",
    "        \n",
    "    p5 = maxpool_up( c5 , 2 )\n",
    "    concat_1 = tf.concat( [ p5 , c4 ] , axis=-1 ) \n",
    "    c6 = conv2d_up( concat_1 , weights[ 10 ] , stride_size=1 , output_shape=[ batch_size , 16 , 16 , 128 ] )\n",
    "    c6 = conv2d_up( c6 , weights[ 11 ] , stride_size=1 , output_shape=[ batch_size , 16 , 16 , 128 ] )  \n",
    "\n",
    "    p6 = maxpool_up( c6 , 2 )\n",
    "    concat_2 = tf.concat( [ p6 , c3 ] , axis=-1 ) \n",
    "    c7 = conv2d_up( concat_2 , weights[ 12 ] , stride_size=1 , output_shape=[ batch_size , 32 , 32 , 64 ] )\n",
    "    c7 = conv2d_up( c7 , weights[ 13 ] , stride_size=1 , output_shape=[ batch_size , 32 , 32 , 64 ] )  \n",
    "\n",
    "    p7 = maxpool_up( c7 , 2 )\n",
    "    concat_3 = tf.concat( [ p7 , c2 ] , axis=-1 ) \n",
    "    c8 = conv2d_up( concat_3 , weights[ 14 ] , stride_size=1 , output_shape=[ batch_size , 64 , 64 , 32 ] )\n",
    "    c8 = conv2d_up( c8 , weights[ 15 ] , stride_size=1 , output_shape=[ batch_size , 64 , 64 , 32 ] )   \n",
    "\n",
    "    p8 = maxpool_up( c8 , 2 )\n",
    "    concat_4 = tf.concat( [ p8 , c1 ] , axis=-1 ) \n",
    "    c9 = conv2d_up( concat_4 , weights[ 16 ] , stride_size=1 , output_shape=[ batch_size , 128 , 128 , 16 ] )\n",
    "    c9 = conv2d_up( c9 , weights[ 17 ] , stride_size=1 , output_shape=[ batch_size , 128 , 128 , 16 ] )   \n",
    "\n",
    "    output = tf.nn.conv2d( c9 , weights[ 18 ] , strides=[ 1 , 1 , 1 , 1 ] , padding=padding ) \n",
    "    outputs = tf.nn.sigmoid( output ) \n",
    "    return outputs\n"
   ]
  },
  {
   "cell_type": "markdown",
   "metadata": {
    "id": "YDxJdWCsLOEF"
   },
   "source": [
    "\n",
    "### **7) Оптимизация и обучение**\n"
   ]
  },
  {
   "cell_type": "code",
   "execution_count": 6,
   "metadata": {
    "id": "CEVrQaC5Vdbk"
   },
   "outputs": [],
   "source": [
    "\n",
    "def loss( pred , target ):\n",
    "    return tf.losses.binary_crossentropy( target , pred )\n",
    "\n",
    "learning_rate = \"0.001\" \n",
    "optimizer = tf.optimizers.Adam( learning_rate=float( learning_rate ) )\n",
    "\n",
    "def train( model, inputs , outputs ):\n",
    "    with tf.GradientTape() as tape:\n",
    "        current_loss = loss( model( inputs ), outputs)\n",
    "    grads = tape.gradient( current_loss , weights )\n",
    "    optimizer.apply_gradients( zip( grads , weights ) )\n",
    "    return tf.reduce_mean( current_loss )\n"
   ]
  },
  {
   "cell_type": "code",
   "execution_count": 7,
   "metadata": {
    "id": "Xmt3fVSooMLm"
   },
   "outputs": [
    {
     "name": "stdout",
     "output_type": "stream",
     "text": [
      "Epoch 1 out of 25 ----------------------------------------------------------------------------------------------------\n",
      "Epoch 2 out of 25 ----------------------------------------------------------------------------------------------------\n",
      "Epoch 3 out of 25 ----------------------------------------------------------------------------------------------------\n",
      "Epoch 4 out of 25 ----------------------------------------------------------------------------------------------------\n",
      "Epoch 5 out of 25 ----------------------------------------------------------------------------------------------------\n",
      "Epoch 6 out of 25 ----------------------------------------------------------------------------------------------------\n",
      "Epoch 7 out of 25 ----------------------------------------------------------------------------------------------------\n",
      "Epoch 8 out of 25 ----------------------------------------------------------------------------------------------------\n",
      "Epoch 9 out of 25 ----------------------------------------------------------------------------------------------------\n",
      "Epoch 10 out of 25 ----------------------------------------------------------------------------------------------------\n",
      "Epoch 11 out of 25 ----------------------------------------------------------------------------------------------------\n",
      "Epoch 12 out of 25 ----------------------------------------------------------------------------------------------------\n",
      "Epoch 13 out of 25 ----------------------------------------------------------------------------------------------------\n",
      "Epoch 14 out of 25 ----------------------------------------------------------------------------------------------------\n",
      "Epoch 15 out of 25 ----------------------------------------------------------------------------------------------------\n",
      "Epoch 16 out of 25 ----------------------------------------------------------------------------------------------------\n",
      "Epoch 17 out of 25 ----------------------------------------------------------------------------------------------------\n",
      "Epoch 18 out of 25 ----------------------------------------------------------------------------------------------------\n",
      "Epoch 19 out of 25 ----------------------------------------------------------------------------------------------------\n",
      "Epoch 20 out of 25 ----------------------------------------------------------------------------------------------------\n",
      "Epoch 21 out of 25 ----------------------------------------------------------------------------------------------------\n",
      "Epoch 22 out of 25 ----------------------------------------------------------------------------------------------------\n",
      "Epoch 23 out of 25 ----------------------------------------------------------------------------------------------------\n",
      "Epoch 24 out of 25 ----------------------------------------------------------------------------------------------------\n",
      "Epoch 25 out of 25 ----------------------------------------------------------------------------------------------------\n"
     ]
    }
   ],
   "source": [
    "  \n",
    "import datetime\n",
    "\n",
    "logdir = \"logs/scalars/\" + datetime.datetime.now().strftime(\"%Y%m%d-%H%M%S\")\n",
    "file_writer = tf.summary.create_file_writer( logdir + \"/metrics\")\n",
    "file_writer.set_as_default()\n",
    "\n",
    "num_epochs = 25 \n",
    "\n",
    "for e in range( num_epochs ):\n",
    "    print( 'Epoch {} out of {} {}'.format( e + 1 , num_epochs , '--' * 50 ) )\n",
    "    for features in train_dataset:\n",
    "        image , label = features\n",
    "        summ_loss = train( model , image , label )\n",
    "        tf.summary.scalar('loss', data=summ_loss, step=e )\n"
   ]
  },
  {
   "cell_type": "code",
   "execution_count": 8,
   "metadata": {
    "id": "RZ5cm5gF3feo"
   },
   "outputs": [
    {
     "name": "stderr",
     "output_type": "stream",
     "text": [
      "Clipping input data to the valid range for imshow with RGB data ([0..1] for floats or [0..255] for integers).\n"
     ]
    },
    {
     "data": {
      "image/png": "[encoded data removed]",
      "text/plain": [
       "<Figure size 432x288 with 2 Axes>"
      ]
     },
     "metadata": {
      "needs_background": "light"
     },
     "output_type": "display_data"
    }
   ],
   "source": [
    "\n",
    "import matplotlib.pyplot as plt\n",
    "\n",
    "input_image = test_features[0:1]\n",
    "pred = model( input_image ).numpy()\n",
    "image = np.zeros( ( 128 , 128 , 3 ) )\n",
    "for x in range( 128 ):\n",
    "    for y in range( 128 ):\n",
    "        if pred[ 0 , x , y ] > 0.5:\n",
    "            image[ x , y ] = [ 255 , 255 , 255 ]\n",
    "        else:\n",
    "            image[ x , y ] = [ 0, 0, 0]\n",
    "\n",
    "def show_images(images: list):\n",
    "    n = len(images)\n",
    "    f = plt.figure()\n",
    "    for i in range(n):\n",
    "        f.add_subplot(1, n, i + 1)\n",
    "        plt.imshow(images[i] , interpolation='none' )\n",
    "    plt.show()\n",
    "\n",
    "show_images( [ test_features[0] , image ] )\n"
   ]
  },
  {
   "cell_type": "code",
   "execution_count": null,
   "metadata": {},
   "outputs": [],
   "source": []
  }
 ],
 "metadata": {
  "accelerator": "GPU",
  "colab": {
   "collapsed_sections": [],
   "name": "CityScape_Image_Segmentation.ipynb",
   "private_outputs": true,
   "provenance": [],
   "toc_visible": true
  },
  "kernelspec": {
   "display_name": "Python 3",
   "language": "python",
   "name": "python3"
  },
  "language_info": {
   "codemirror_mode": {
    "name": "ipython",
    "version": 3
   },
   "file_extension": ".py",
   "mimetype": "text/x-python",
   "name": "python",
   "nbconvert_exporter": "python",
   "pygments_lexer": "ipython3",
   "version": "3.7.10"
  }
 },
 "nbformat": 4,
 "nbformat_minor": 1
}
